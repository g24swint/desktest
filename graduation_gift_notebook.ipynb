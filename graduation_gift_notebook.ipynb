{
 "cells": [
  {
   "cell_type": "code",
   "execution_count": 1,
   "metadata": {
    "collapsed": false
   },
   "outputs": [
    {
     "name": "stderr",
     "output_type": "stream",
     "text": [
      "C:\\Users\\ibuypower\\Anaconda\\lib\\site-packages\\IPython\\kernel\\__init__.py:13: ShimWarning: The `IPython.kernel` package has been deprecated. You should import from ipykernel or jupyter_client instead.\n",
      "  \"You should import from ipykernel or jupyter_client instead.\", ShimWarning)\n"
     ]
    }
   ],
   "source": [
    "%matplotlib nbagg\n",
    "%load_ext autoreload\n",
    "%autoreload 2"
   ]
  },
  {
   "cell_type": "code",
   "execution_count": 2,
   "metadata": {
    "collapsed": false
   },
   "outputs": [],
   "source": [
    "from __future__ import print_function\n",
    "from __future__ import division\n",
    "\n",
    "from mpl_toolkits.mplot3d import Axes3D\n",
    "import mpl_toolkits.mplot3d.axes3d as p3d\n",
    "import matplotlib.pyplot as plt\n",
    "from matplotlib import animation\n",
    "\n",
    "import logo_maps as lm"
   ]
  },
  {
   "cell_type": "code",
   "execution_count": 3,
   "metadata": {
    "collapsed": false
   },
   "outputs": [
    {
     "name": "stdout",
     "output_type": "stream",
     "text": [
      "11111111111110001100000000000011\n",
      "11111111111111001100000000000011\n",
      "11111111111111001100000000000011\n",
      "11100000000001101100000000000011\n",
      "11100000000000101100000000000011\n",
      "11100000000000111100000000000011\n",
      "11100000000000111100000000000011\n",
      "11100000000000111100000000000011\n",
      "11100000000000111100000000000011\n",
      "11100000000000111100000000000011\n",
      "11100000000000101100000000000011\n",
      "11100000000001101100000000000011\n",
      "11100000000001101100000000000011\n",
      "11100000000011001100000000000011\n",
      "11111111111110001100000000000011\n",
      "11111111111100001100000000000011\n",
      "11111111111100001100000000000011\n",
      "11111111111110001100000000000011\n",
      "11100000000011001100000000000011\n",
      "11100000000001001100000000000011\n",
      "11100000000001101100000000000011\n",
      "11100000000000101100000000000011\n",
      "11100000000000111100000000000011\n",
      "11100000000000111100000000000011\n",
      "11100000000000111100000000000011\n",
      "11100000000000111100000000000011\n",
      "11100000000000111100000000000011\n",
      "11100000000000101110000000000111\n",
      "11100000000001100111000000001110\n",
      "11111111111111000011100000011100\n",
      "11111111111111000001111111111000\n",
      "11111111111110000000111111110000\n"
     ]
    }
   ],
   "source": [
    "lm.print_bu_logo()"
   ]
  },
  {
   "cell_type": "code",
   "execution_count": 4,
   "metadata": {
    "collapsed": false
   },
   "outputs": [
    {
     "name": "stdout",
     "output_type": "stream",
     "text": [
      "Galen S. Swint, BSCS, 2000-05-13\n",
      "School of Engineering and Computer Science, Baylor University\n",
      "10001001010001101010111110010110\n",
      "10100011101111100111101111010110\n",
      "10001110001000111001011101010000\n",
      "01011100011000111011000010110101\n",
      "01000001111011011110110011001110\n",
      "00110000010011111111110000001011\n",
      "11001101010100001000011010000010\n",
      "11101010001001001100110110010100\n",
      "00101010110101111011111111000101\n",
      "11001001011101000001100001101111\n",
      "11111111010100101000010001011011\n",
      "01011010000111010001101100011110\n",
      "01011101000001001001111101011011\n",
      "01001101001011111110111111001100\n",
      "10010001001001111001111111110110\n",
      "11001101101110000001010100010010\n",
      "00010001110101111101000011101111\n",
      "00000111101011011001001110011001\n",
      "01010111001100100100101011001011\n",
      "00110111100001001111010000001101\n",
      "11110000011111100100000001110110\n",
      "00010110100010001111001111001000\n",
      "11010000001101111000000100001110\n",
      "10100000110011110011100000101100\n",
      "01110010010011101110101011111100\n",
      "01101011100111111100000110100010\n",
      "00110100001111110010100000110110\n",
      "00100011110110111101110010100101\n",
      "10101110100101001011010110111101\n",
      "00101000011101110111110001100110\n",
      "11101000111011011000110000111111\n",
      "11010100011010101110000101111100\n"
     ]
    }
   ],
   "source": [
    "conferred_hash = lm.degree_hash(lm.CONFERRED, lm.INSTITUTION)\n",
    "lm.print_ascii_face_32(conferred_hash)"
   ]
  },
  {
   "cell_type": "code",
   "execution_count": 5,
   "metadata": {
    "collapsed": false
   },
   "outputs": [],
   "source": [
    "def facemap_to_points(facemap):\n",
    "    '''Return the points arrays dimension 1 and dimension 2 that correspond to \n",
    "    the face map. Assumes 32x32'''\n",
    "    points = {'x':[],'y':[]}\n",
    "    for charcount in range(len(facemap)):\n",
    "        if facemap[charcount]=='1':\n",
    "            points['x'].append(charcount % 32 )\n",
    "            points['y'].append(32 - charcount // 32 )\n",
    "    return points\n",
    "\n",
    "def facemap_to_bitmap(facemap):\n",
    "    '''Return a bitmap (numeric binary) of a given facemap. Assumes 32x32'''\n",
    "    bitmap = []\n",
    "    for i_hat in range(32):\n",
    "        row = []\n",
    "        for j_hat in range(32):\n",
    "            row.append( 1 if facemap[i_hat * 32 + j_hat] == '1' else 0 )\n",
    "        bitmap.append(row)\n",
    "    return bitmap\n",
    "    \n"
   ]
  },
  {
   "cell_type": "code",
   "execution_count": null,
   "metadata": {
    "collapsed": false
   },
   "outputs": [],
   "source": [
    "conferred_degree_points = facemap_to_points(conferred_hash)\n",
    "logo_map = lm.bu_logo()\n",
    "logo_points = facemap_to_points(lm.bu_logo())\n",
    "logo_bitmap = facemap_to_bitmap(logo_map)\n",
    "conferred_bitmap = facemap_to_bitmap(conferred_hash)\n"
   ]
  },
  {
   "cell_type": "code",
   "execution_count": null,
   "metadata": {
    "collapsed": true
   },
   "outputs": [],
   "source": [
    "from matplotlib.pyplot import figure, scatter\n",
    "\n",
    "def scatter32x32(pointdict):\n",
    "    plot_fig = figure()\n",
    "    scatter(pointdict['x'], pointdict['y'])\n",
    "    return plot_fig\n"
   ]
  },
  {
   "cell_type": "code",
   "execution_count": null,
   "metadata": {
    "collapsed": false
   },
   "outputs": [],
   "source": [
    "#%%\n",
    "logo_fig = scatter32x32(logo_points)\n",
    "#%%\n",
    "degree_fig = scatter32x32(conferred_degree_points)\n"
   ]
  },
  {
   "cell_type": "code",
   "execution_count": null,
   "metadata": {
    "collapsed": false
   },
   "outputs": [],
   "source": [
    "cubespace = []\n",
    "xs = []\n",
    "ys = []\n",
    "zs = []\n",
    "\n",
    "for z in range(32):\n",
    "    for y in range(32):\n",
    "        for x in range(32):\n",
    "            # reverse the order of the y -axis as the bitmaps have y=0 in \n",
    "            # top left. Use y,x ordering because stores in rows\n",
    "            xyz_val = (x, 32-y, z, \n",
    "                       conferred_bitmap[y][x] & logo_bitmap[y][z] )\n",
    "            cubespace.append(xyz_val)\n",
    "            if xyz_val[3] == 1:\n",
    "                xs.append(xyz_val[0])\n",
    "                ys.append(xyz_val[1])\n",
    "                zs.append(xyz_val[2])"
   ]
  },
  {
   "cell_type": "code",
   "execution_count": null,
   "metadata": {
    "collapsed": false
   },
   "outputs": [],
   "source": [
    "fig3d = plt.figure()\n",
    "fig3d.set_figheight(8)\n",
    "fig3d.set_figwidth(8)\n",
    "\n",
    "\n",
    "ax = fig3d.add_subplot(111, projection='3d', \n",
    "                       azim=0, elev=0)\n",
    "ax.scatter(xs, ys, zs, zdir='y' )\n",
    "ax.set_xlabel('x label')\n",
    "ax.set_ylabel('y label')\n",
    "ax.set_zlabel('z label')\n",
    "\n",
    "ax.set_xlim3d(-1, 33)\n",
    "ax.set_ylim3d(-1, 33)\n",
    "ax.set_zlim3d(-1, 33)\n",
    "fig3d.show()"
   ]
  },
  {
   "cell_type": "code",
   "execution_count": null,
   "metadata": {
    "collapsed": true
   },
   "outputs": [],
   "source": []
  }
 ],
 "metadata": {
  "kernelspec": {
   "display_name": "Python 2",
   "language": "python",
   "name": "python2"
  },
  "language_info": {
   "codemirror_mode": {
    "name": "ipython",
    "version": 2
   },
   "file_extension": ".py",
   "mimetype": "text/x-python",
   "name": "python",
   "nbconvert_exporter": "python",
   "pygments_lexer": "ipython2",
   "version": "2.7.11"
  }
 },
 "nbformat": 4,
 "nbformat_minor": 0
}
